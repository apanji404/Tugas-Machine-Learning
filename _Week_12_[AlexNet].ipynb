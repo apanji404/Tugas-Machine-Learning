{
  "nbformat": 4,
  "nbformat_minor": 0,
  "metadata": {
    "colab": {
      "name": "_Week_12_[AlexNet].ipynb",
      "provenance": [],
      "collapsed_sections": [],
      "authorship_tag": "ABX9TyPKT0HU8qeRPi8Nbl2sIVvY",
      "include_colab_link": true
    },
    "kernelspec": {
      "name": "python3",
      "display_name": "Python 3"
    },
    "language_info": {
      "name": "python"
    }
  },
  "cells": [
    {
      "cell_type": "markdown",
      "metadata": {
        "id": "view-in-github",
        "colab_type": "text"
      },
      "source": [
        "<a href=\"https://colab.research.google.com/github/apanji404/Tugas-Machine-Learning/blob/main/_Week_12_%5BAlexNet%5D.ipynb\" target=\"_parent\"><img src=\"https://colab.research.google.com/assets/colab-badge.svg\" alt=\"Open In Colab\"/></a>"
      ]
    },
    {
      "cell_type": "code",
      "execution_count": 40,
      "metadata": {
        "id": "y_uOCqMXc70Z"
      },
      "outputs": [],
      "source": [
        "import os\n",
        "import torch\n",
        "import torchvision\n",
        "import numpy as np\n",
        "import pandas as pd\n",
        "import torch.nn as nn\n",
        "import torch.optim as optim\n",
        "import matplotlib.pyplot as plt\n",
        "import torch.nn.functional as F\n",
        "from PIL import Image\n",
        "from torchvision import transforms, datasets\n",
        "from torch.utils.data import Dataset, DataLoader"
      ]
    },
    {
      "cell_type": "code",
      "source": [
        "# training batches of our network\n",
        "EPOCHS = 10\n",
        "# size of each batch\n",
        "BATCH_SIZE = 512\n",
        "\n",
        "DEVICE = (\"cuda\" if torch.cuda.is_available() else \"cpu\")\n",
        "class_names = ['T-shirt/top', 'Trouser', 'Pullover', 'Dress', 'Coat',\n",
        "               'Sandal', 'Shirt', 'Sneaker', 'Bag', 'Ankle boot']\n",
        "\n",
        "print(torch.__version__)\n",
        "print(DEVICE)"
      ],
      "metadata": {
        "colab": {
          "base_uri": "https://localhost:8080/"
        },
        "id": "G2EwAq4hdLLQ",
        "outputId": "8a953964-9cb6-4e4a-9aeb-300924c6f645"
      },
      "execution_count": 41,
      "outputs": [
        {
          "output_type": "stream",
          "name": "stdout",
          "text": [
            "1.10.0+cu111\n",
            "cpu\n"
          ]
        }
      ]
    },
    {
      "cell_type": "code",
      "source": [
        "#connect to google drive\n",
        "from google.colab import drive\n",
        "drive.mount('/content/drive')"
      ],
      "metadata": {
        "colab": {
          "base_uri": "https://localhost:8080/"
        },
        "id": "rUpELEyfdNSu",
        "outputId": "c74e5bdc-c9ca-4c16-b587-3dd5039433da"
      },
      "execution_count": 42,
      "outputs": [
        {
          "output_type": "stream",
          "name": "stdout",
          "text": [
            "Drive already mounted at /content/drive; to attempt to forcibly remount, call drive.mount(\"/content/drive\", force_remount=True).\n"
          ]
        }
      ]
    },
    {
      "cell_type": "code",
      "source": [
        "train_file_path = '../content/drive/My Drive/dataset/fashion-mnist_train.csv'\n",
        "test_file_path = '../content/drive/My Drive/dataset/fashion-mnist_test.csv'"
      ],
      "metadata": {
        "id": "cK4WPXFcfgxj"
      },
      "execution_count": 43,
      "outputs": []
    },
    {
      "cell_type": "code",
      "source": [
        "train_csv = pd.read_csv(train_file_path)\n",
        "test_csv = pd.read_csv(test_file_path)\n",
        "\n",
        "\n",
        "print(train_csv.shape)\n",
        "print(test_csv.shape)"
      ],
      "metadata": {
        "colab": {
          "base_uri": "https://localhost:8080/"
        },
        "id": "bQ5Nbv-qfjSV",
        "outputId": "a6eda877-30e6-4e0b-8e38-70baa52607b1"
      },
      "execution_count": 44,
      "outputs": [
        {
          "output_type": "stream",
          "name": "stdout",
          "text": [
            "(60000, 785)\n",
            "(10000, 785)\n"
          ]
        }
      ]
    },
    {
      "cell_type": "code",
      "source": [
        "print(train_csv.info())\n",
        "print(train_csv.head())"
      ],
      "metadata": {
        "colab": {
          "base_uri": "https://localhost:8080/"
        },
        "id": "2Eaqo27jfllK",
        "outputId": "d450f2b8-da12-4cee-99db-7692f49880a3"
      },
      "execution_count": 45,
      "outputs": [
        {
          "output_type": "stream",
          "name": "stdout",
          "text": [
            "<class 'pandas.core.frame.DataFrame'>\n",
            "RangeIndex: 60000 entries, 0 to 59999\n",
            "Columns: 785 entries, label to pixel784\n",
            "dtypes: int64(785)\n",
            "memory usage: 359.3 MB\n",
            "None\n",
            "   label  pixel1  pixel2  pixel3  ...  pixel781  pixel782  pixel783  pixel784\n",
            "0      2       0       0       0  ...         0         0         0         0\n",
            "1      9       0       0       0  ...         0         0         0         0\n",
            "2      6       0       0       0  ...         0         0         0         0\n",
            "3      0       0       0       0  ...         0         0         0         0\n",
            "4      3       0       0       0  ...         0         0         0         0\n",
            "\n",
            "[5 rows x 785 columns]\n"
          ]
        }
      ]
    },
    {
      "cell_type": "code",
      "source": [
        "class FashionDataset(Dataset):\n",
        "    def __init__(self, data, transform=None):        \n",
        "        self.fashion_MNIST = list(data.values)\n",
        "        self.transform = transform\n",
        "        \n",
        "        label, image = [], []\n",
        "        \n",
        "        for i in self.fashion_MNIST:\n",
        "            label.append(i[0])\n",
        "            image.append(i[1:])\n",
        "        self.labels = np.asarray(label)\n",
        "        self.images = np.asarray(image).reshape(-1, 28, 28).astype('float32')\n",
        "        \n",
        "    def __len__(self):\n",
        "        return len(self.images)\n",
        "    \n",
        "    def __getitem__(self, idx):\n",
        "        label = self.labels[idx]\n",
        "        image = self.images[idx]      \n",
        "        \n",
        "        if self.transform is not None:\n",
        "            # transfrom the numpy array to PIL image before the transform function\n",
        "            pil_image = Image.fromarray(np.uint8(image)) \n",
        "            image = self.transform(pil_image)\n",
        "            \n",
        "        return image, label"
      ],
      "metadata": {
        "id": "nU0QVdfbfnPK"
      },
      "execution_count": 46,
      "outputs": []
    },
    {
      "cell_type": "code",
      "source": [
        "AlexTransform = transforms.Compose([\n",
        "    transforms.Resize((227, 227)),\n",
        "    transforms.ToTensor(),\n",
        "    transforms.Normalize((0.1307,), (0.3081,))\n",
        "])"
      ],
      "metadata": {
        "id": "E2Byq0Z2fpsV"
      },
      "execution_count": 47,
      "outputs": []
    },
    {
      "cell_type": "code",
      "source": [
        "#DataLoader\n",
        "train_loader = DataLoader(\n",
        "    FashionDataset(train_csv, transform=AlexTransform), \n",
        "    batch_size=BATCH_SIZE, shuffle=True)\n",
        "\n",
        "test_loader = DataLoader(\n",
        "    FashionDataset(test_csv, transform=AlexTransform), \n",
        "    batch_size=BATCH_SIZE, shuffle=True)"
      ],
      "metadata": {
        "id": "J-AccW4cfr3C"
      },
      "execution_count": 48,
      "outputs": []
    },
    {
      "cell_type": "code",
      "source": [
        "# helper function to show an image\n",
        "def matplotlib_imshow(img):\n",
        "    img = img.mean(dim=0)\n",
        "    img = img / 2 + 0.5     # unnormalize\n",
        "    npimg = img.numpy()\n",
        "    plt.imshow(npimg, cmap=\"Greys\")\n",
        "\n",
        "# get some random training images\n",
        "dataiter = iter(train_loader)\n",
        "images, labels = dataiter.next()\n",
        "\n",
        "# creat grid of images\n",
        "img_grid = torchvision.utils.make_grid(images[0])\n",
        "\n",
        "# show images & labels\n",
        "matplotlib_imshow(img_grid)\n",
        "print(class_names[labels[0]])"
      ],
      "metadata": {
        "colab": {
          "base_uri": "https://localhost:8080/",
          "height": 286
        },
        "id": "4niL9YdWft5r",
        "outputId": "8e087340-5a5f-4b1a-84c0-de5edde2a575"
      },
      "execution_count": 49,
      "outputs": [
        {
          "output_type": "stream",
          "name": "stdout",
          "text": [
            "Coat\n"
          ]
        },
        {
          "output_type": "display_data",
          "data": {
            "image/png": "[encoded data removed]",
            "text/plain": [
              "<Figure size 432x288 with 1 Axes>"
            ]
          },
          "metadata": {
            "needs_background": "light"
          }
        }
      ]
    },
    {
      "cell_type": "code",
      "source": [
        "class fasion_mnist_alexnet(nn.Module):  \n",
        "    def __init__(self):\n",
        "        super().__init__()\n",
        "        self.conv1 = nn.Sequential(\n",
        "            nn.Conv2d(in_channels=1, out_channels=96, kernel_size=11, stride=4, padding=0),\n",
        "            nn.ReLU(),\n",
        "            nn.MaxPool2d(kernel_size=3, stride=2)\n",
        "        )\n",
        "        self.conv2 = nn.Sequential(\n",
        "            nn.Conv2d(96, 256, 5, 1, 2),\n",
        "            nn.ReLU(),\n",
        "            nn.MaxPool2d(3, 2)\n",
        "        )\n",
        "        self.conv3 = nn.Sequential(\n",
        "            nn.Conv2d(256, 384, 3, 1, 1),\n",
        "            nn.ReLU()\n",
        "        )\n",
        "        self.conv4 = nn.Sequential(\n",
        "            nn.Conv2d(384, 384, 3, 1, 1),\n",
        "            nn.ReLU()\n",
        "        )\n",
        "        self.conv5 = nn.Sequential(\n",
        "            nn.Conv2d(384, 256, 3, 1, 1),\n",
        "            nn.ReLU(),\n",
        "            nn.MaxPool2d(3, 2)\n",
        "        )\n",
        "\n",
        "        self.fc1 = nn.Linear(256 * 6 * 6, 4096)\n",
        "        self.fc2 = nn.Linear(4096, 4096)\n",
        "        self.fc3 = nn.Linear(4096, 10)\n",
        "\n",
        "    def forward(self, x):\n",
        "        out = self.conv1(x)\n",
        "        out = self.conv2(out)\n",
        "        out = self.conv3(out)\n",
        "        out = self.conv4(out)\n",
        "        out = self.conv5(out)\n",
        "        out = out.view(out.size(0), -1)\n",
        "\n",
        "        out = F.relu(self.fc1(out))  # 256*6*6 -> 4096\n",
        "        out = F.dropout(out, 0.5)\n",
        "        out = F.relu(self.fc2(out))\n",
        "        out = F.dropout(out, 0.5)\n",
        "        out = self.fc3(out)\n",
        "        out = F.log_softmax(out, dim=1)\n",
        "\n",
        "        return out"
      ],
      "metadata": {
        "id": "wcWwyF_ffwBQ"
      },
      "execution_count": 50,
      "outputs": []
    },
    {
      "cell_type": "code",
      "source": [
        "#MODEL\n",
        "model = fasion_mnist_alexnet().to(DEVICE)\n",
        "criterion = F.nll_loss\n",
        "optimizer = optim.Adam(model.parameters())"
      ],
      "metadata": {
        "id": "wDRzGeqBf1sA"
      },
      "execution_count": 51,
      "outputs": []
    },
    {
      "cell_type": "code",
      "source": [
        "def train(model, device, train_loader, optimer, epoch):\n",
        "    model.train()\n",
        "    for batch_idx, (data, target) in enumerate(train_loader):\n",
        "        target = target.type(torch.LongTensor)\n",
        "        data, target = data.to(device), target.to(device)\n",
        "        optimizer.zero_grad()\n",
        "        output = model(data)\n",
        "        loss = criterion(output, target)\n",
        "        loss.backward()\n",
        "        optimizer.step()\n",
        "        if (batch_idx + 1) % 30 == 0:\n",
        "            print(\"Train Epoch:{} [{}/{} ({:.0f}%)]\\tLoss: {:.6f}\".format(\n",
        "                epoch, batch_idx * len(data), len(train_loader.dataset),\n",
        "                100. * batch_idx / len(train_loader), loss.item()))"
      ],
      "metadata": {
        "id": "z02EqnT4f5yu"
      },
      "execution_count": 52,
      "outputs": []
    },
    {
      "cell_type": "code",
      "source": [
        "def test(model, device, test_loader):\n",
        "    model.eval()\n",
        "    test_loss = 0\n",
        "    correct = 0\n",
        "    with torch.no_grad():\n",
        "        for data, target in test_loader:\n",
        "            data, target = data.to(device), target.to(device)\n",
        "            output = model(data)\n",
        "            test_loss += criterion(output, target, reduction='sum').item()\n",
        "            pred = output.max(1, keepdim=True)[1]\n",
        "            correct += pred.eq(target.view_as(pred)).sum().item()\n",
        "\n",
        "        test_loss /= len(test_loader.dataset)  # loss之和除以data数量 -> mean\n",
        "        print(\"\\nTest set: Average loss: {:.4f}, Accuracy: {}/{} ({:.0f}%)\\n\".format(\n",
        "            test_loss, correct, len(test_loader.dataset), 100. * correct / len(test_loader.dataset)))\n",
        "        print('='*50)"
      ],
      "metadata": {
        "id": "f2MXZxEwf6MI"
      },
      "execution_count": 53,
      "outputs": []
    },
    {
      "cell_type": "code",
      "source": [
        "for epoch in range(1, EPOCHS+1):\n",
        "    train(model, DEVICE, train_loader, optimizer, epoch)\n",
        "    test(model, DEVICE, test_loader)"
      ],
      "metadata": {
        "colab": {
          "base_uri": "https://localhost:8080/"
        },
        "id": "8HpImlvWf8v4",
        "outputId": "79bfe536-6373-46fb-b09a-2af6e38b36f5"
      },
      "execution_count": null,
      "outputs": [
        {
          "output_type": "stream",
          "name": "stdout",
          "text": [
            "Train Epoch:1 [14848/60000 (25%)]\tLoss: 1.300933\n",
            "Train Epoch:1 [30208/60000 (50%)]\tLoss: 0.773249\n",
            "Train Epoch:1 [45568/60000 (75%)]\tLoss: 0.603033\n",
            "\n",
            "Test set: Average loss: 0.5097, Accuracy: 7968/10000 (80%)\n",
            "\n",
            "==================================================\n",
            "Train Epoch:2 [14848/60000 (25%)]\tLoss: 0.469827\n",
            "Train Epoch:2 [30208/60000 (50%)]\tLoss: 0.421777\n",
            "Train Epoch:2 [45568/60000 (75%)]\tLoss: 0.403245\n",
            "\n",
            "Test set: Average loss: 0.4365, Accuracy: 8307/10000 (83%)\n",
            "\n",
            "==================================================\n",
            "Train Epoch:3 [14848/60000 (25%)]\tLoss: 0.342857\n",
            "Train Epoch:3 [30208/60000 (50%)]\tLoss: 0.248237\n",
            "Train Epoch:3 [45568/60000 (75%)]\tLoss: 0.309518\n"
          ]
        }
      ]
    }
  ]
}